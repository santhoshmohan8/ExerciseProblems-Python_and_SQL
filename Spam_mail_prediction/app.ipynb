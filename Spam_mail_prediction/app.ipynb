{
 "cells": [
  {
   "cell_type": "code",
   "execution_count": 2,
   "metadata": {},
   "outputs": [
    {
     "name": "stdout",
     "output_type": "stream",
     "text": [
      "Collecting flask\n",
      "\u001b[?25l  Downloading https://files.pythonhosted.org/packages/36/42/015c23096649b908c809c69388a805a571a3bea44362fe87e33fc3afa01f/flask-3.0.0-py3-none-any.whl (99kB)\n",
      "\u001b[K     |████████████████████████████████| 102kB 301kB/s ta 0:00:01\n",
      "\u001b[?25hCollecting Werkzeug>=3.0.0 (from flask)\n",
      "\u001b[?25l  Downloading https://files.pythonhosted.org/packages/c3/fc/254c3e9b5feb89ff5b9076a23218dafbc99c96ac5941e900b71206e6313b/werkzeug-3.0.1-py3-none-any.whl (226kB)\n",
      "\u001b[K     |████████████████████████████████| 235kB 952kB/s eta 0:00:01\n",
      "\u001b[?25hRequirement already satisfied: importlib-metadata>=3.6.0; python_version < \"3.10\" in /Users/priya/Library/Python/3.8/lib/python/site-packages (from flask) (6.8.0)\n",
      "Requirement already satisfied: click>=8.1.3 in /Users/priya/Library/Python/3.8/lib/python/site-packages (from flask) (8.1.7)\n",
      "Collecting itsdangerous>=2.1.2 (from flask)\n",
      "  Downloading https://files.pythonhosted.org/packages/68/5f/447e04e828f47465eeab35b5d408b7ebaaaee207f48b7136c5a7267a30ae/itsdangerous-2.1.2-py3-none-any.whl\n",
      "Collecting blinker>=1.6.2 (from flask)\n",
      "  Downloading https://files.pythonhosted.org/packages/fa/2a/7f3714cbc6356a0efec525ce7a0613d581072ed6eb53eb7b9754f33db807/blinker-1.7.0-py3-none-any.whl\n",
      "Collecting Jinja2>=3.1.2 (from flask)\n",
      "\u001b[?25l  Downloading https://files.pythonhosted.org/packages/bc/c3/f068337a370801f372f2f8f6bad74a5c140f6fda3d9de154052708dd3c65/Jinja2-3.1.2-py3-none-any.whl (133kB)\n",
      "\u001b[K     |████████████████████████████████| 133kB 2.5MB/s eta 0:00:01\n",
      "\u001b[?25hCollecting MarkupSafe>=2.1.1 (from Werkzeug>=3.0.0->flask)\n",
      "  Downloading https://files.pythonhosted.org/packages/f8/33/e9e83b214b5f8d9a60b26e60051734e7657a416e5bce7d7f1c34e26badad/MarkupSafe-2.1.3-cp38-cp38-macosx_10_9_x86_64.whl\n",
      "Requirement already satisfied: zipp>=0.5 in /Users/priya/Library/Python/3.8/lib/python/site-packages (from importlib-metadata>=3.6.0; python_version < \"3.10\"->flask) (3.17.0)\n",
      "Installing collected packages: MarkupSafe, Werkzeug, itsdangerous, blinker, Jinja2, flask\n",
      "Successfully installed Jinja2-3.1.2 MarkupSafe-2.1.3 Werkzeug-3.0.1 blinker-1.7.0 flask-3.0.0 itsdangerous-2.1.2\n",
      "\u001b[33mWARNING: You are using pip version 19.2.3, however version 23.3.2 is available.\n",
      "You should consider upgrading via the 'pip install --upgrade pip' command.\u001b[0m\n",
      "Note: you may need to restart the kernel to use updated packages.\n"
     ]
    }
   ],
   "source": [
    "pip install flask --user"
   ]
  },
  {
   "cell_type": "code",
   "execution_count": 3,
   "metadata": {},
   "outputs": [],
   "source": [
    "import pandas as pd\n",
    "import numpy as np\n",
    "import pickle\n",
    "from flask import Flask, request, jsonify, render_template"
   ]
  },
  {
   "cell_type": "code",
   "execution_count": 4,
   "metadata": {},
   "outputs": [],
   "source": [
    "app = Flask(__name__)\n",
    "model = pickle.load(open('model.pkl','rb'))"
   ]
  },
  {
   "cell_type": "code",
   "execution_count": 1,
   "metadata": {},
   "outputs": [
    {
     "ename": "NameError",
     "evalue": "name 'app' is not defined",
     "output_type": "error",
     "traceback": [
      "\u001b[0;31m---------------------------------------------------------------------------\u001b[0m",
      "\u001b[0;31mNameError\u001b[0m                                 Traceback (most recent call last)",
      "\u001b[1;32m/Users/priya/MachineLearning/MachineLearning-1/Spam_mail_prediction/app.ipynb Cell 4\u001b[0m line \u001b[0;36m1\n\u001b[0;32m----> <a href='vscode-notebook-cell:/Users/priya/MachineLearning/MachineLearning-1/Spam_mail_prediction/app.ipynb#W3sZmlsZQ%3D%3D?line=0'>1</a>\u001b[0m \u001b[39m@app\u001b[39m\u001b[39m.\u001b[39mroute(\u001b[39m'\u001b[39m\u001b[39m/\u001b[39m\u001b[39m'\u001b[39m)\n\u001b[1;32m      <a href='vscode-notebook-cell:/Users/priya/MachineLearning/MachineLearning-1/Spam_mail_prediction/app.ipynb#W3sZmlsZQ%3D%3D?line=1'>2</a>\u001b[0m \u001b[39mdef\u001b[39;00m \u001b[39mhome\u001b[39m():\n\u001b[1;32m      <a href='vscode-notebook-cell:/Users/priya/MachineLearning/MachineLearning-1/Spam_mail_prediction/app.ipynb#W3sZmlsZQ%3D%3D?line=2'>3</a>\u001b[0m     \u001b[39mreturn\u001b[39;00m render_template(\u001b[39m'\u001b[39m\u001b[39mindex.html\u001b[39m\u001b[39m'\u001b[39m)\n\u001b[1;32m      <a href='vscode-notebook-cell:/Users/priya/MachineLearning/MachineLearning-1/Spam_mail_prediction/app.ipynb#W3sZmlsZQ%3D%3D?line=4'>5</a>\u001b[0m \u001b[39m@app\u001b[39m\u001b[39m.\u001b[39mroute(\u001b[39m'\u001b[39m\u001b[39m/predict\u001b[39m\u001b[39m'\u001b[39m, methods\u001b[39m=\u001b[39m[\u001b[39m'\u001b[39m\u001b[39mPOST\u001b[39m\u001b[39m'\u001b[39m])\n\u001b[1;32m      <a href='vscode-notebook-cell:/Users/priya/MachineLearning/MachineLearning-1/Spam_mail_prediction/app.ipynb#W3sZmlsZQ%3D%3D?line=5'>6</a>\u001b[0m \u001b[39mdef\u001b[39;00m \u001b[39mpredict\u001b[39m():\n",
      "\u001b[0;31mNameError\u001b[0m: name 'app' is not defined"
     ]
    }
   ],
   "source": [
    "@app.route('/')\n",
    "def home():\n",
    "    return render_template('index.html')\n",
    "\n",
    "@app.route('/predict', methods=['POST'])\n",
    "def predict():\n",
    "    input = request.form.values()\n",
    "    prediction = model.predict(input)\n",
    "\n",
    "    return render_template('index.html',prediction_text = \"{} message\".format(prediction))\n",
    "\n",
    "\n",
    "\n"
   ]
  }
 ],
 "metadata": {
  "kernelspec": {
   "display_name": "Python 3",
   "language": "python",
   "name": "python3"
  },
  "language_info": {
   "codemirror_mode": {
    "name": "ipython",
    "version": 3
   },
   "file_extension": ".py",
   "mimetype": "text/x-python",
   "name": "python",
   "nbconvert_exporter": "python",
   "pygments_lexer": "ipython3",
   "version": "3.8.2"
  }
 },
 "nbformat": 4,
 "nbformat_minor": 2
}
